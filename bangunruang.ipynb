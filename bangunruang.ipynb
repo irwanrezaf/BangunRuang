{
  "nbformat": 4,
  "nbformat_minor": 0,
  "metadata": {
    "colab": {
      "name": "bangunruang.ipynb",
      "provenance": [],
      "collapsed_sections": []
    },
    "kernelspec": {
      "name": "python3",
      "display_name": "Python 3"
    }
  },
  "cells": [
    {
      "cell_type": "code",
      "metadata": {
        "id": "tN3tqfuZsct4",
        "colab": {
          "base_uri": "https://localhost:8080/"
        },
        "outputId": "e42f57ec-f438-42e6-e125-f8e6539f04ca"
      },
      "source": [
        "print(\"Program Bangun Ruang\")"
      ],
      "execution_count": 1,
      "outputs": [
        {
          "output_type": "stream",
          "text": [
            "Program Bangun Ruang\n"
          ],
          "name": "stdout"
        }
      ]
    },
    {
      "cell_type": "code",
      "metadata": {
        "colab": {
          "base_uri": "https://localhost:8080/"
        },
        "id": "3AJGd9Hns_BG",
        "outputId": "7e57089e-1327-4da1-e1ca-c7348907b474"
      },
      "source": [
        "print(\"Luas Dan Volume Tabung\")\r\n",
        "\r\n",
        "r = int (input('masukkan jari-jari : '))\r\n",
        "t = int (input('masukkan tinggi : '))\r\n",
        "luas = 2*3.14*r*(r + t)\r\n",
        "print('luas permukaan tabung')\r\n",
        "print(luas)\r\n",
        "\r\n",
        "print('volume tabung')\r\n",
        "volume = 3.14*r*r*t\r\n",
        "print(volume)"
      ],
      "execution_count": 13,
      "outputs": [
        {
          "output_type": "stream",
          "text": [
            "Luas Dan Volume Tabung\n",
            "masukkan jari-jari : 9\n",
            "masukkan tinggi : 9\n",
            "luas permukaan tabung\n",
            "1017.36\n",
            "volume tabung\n",
            "2289.06\n"
          ],
          "name": "stdout"
        }
      ]
    },
    {
      "cell_type": "code",
      "metadata": {
        "colab": {
          "base_uri": "https://localhost:8080/"
        },
        "id": "BHjJUEUUx7Y9",
        "outputId": "35046b55-be51-4e9c-cdc4-aee23ad0ffbb"
      },
      "source": [
        "print(\"Luas Dan Volume Kerucut\")\r\n",
        "\r\n",
        "r = int (input('masukkan jari-jari : '))\r\n",
        "t = int (input('masukkan tinggi : '))\r\n",
        "s = (r*r + t*t)**0.5\r\n",
        "print('nilai s adalah', s)\r\n",
        "\r\n",
        "print('luas permukaan kerucut')\r\n",
        "luas = (3.14 * r*r)+(3.14*r*s)\r\n",
        "print(luas)\r\n",
        "\r\n",
        "print('volume kerucut')\r\n",
        "volume = 1/3*3.14*r*r*t\r\n",
        "print(volume)\r\n"
      ],
      "execution_count": 20,
      "outputs": [
        {
          "output_type": "stream",
          "text": [
            "Luas Dan Volume Kerucut\n",
            "masukkan jari-jari : 6\n",
            "masukkan tinggi : 4\n",
            "nilai s adalah 7.211102550927978\n",
            "luas permukaan kerucut\n",
            "248.8971720594831\n",
            "volume kerucut\n",
            "150.71999999999997\n"
          ],
          "name": "stdout"
        }
      ]
    },
    {
      "cell_type": "code",
      "metadata": {
        "colab": {
          "base_uri": "https://localhost:8080/"
        },
        "id": "Z_FRSse73Ddj",
        "outputId": "b2ea8541-3a1f-4c7f-da71-e3f017f7672a"
      },
      "source": [
        "print(\"Luas Dan Volume Bola\")\r\n",
        "\r\n",
        "r = int (input('masukkan jari-jari : '))\r\n",
        "d = 2*r\r\n",
        "print('diameter sebesar', d)\r\n",
        "\r\n",
        "print('luas permukaan bola')\r\n",
        "luas = 4*3.14*r*r\r\n",
        "print(luas)\r\n",
        "\r\n",
        "print('volume bola')\r\n",
        "volume = (4*3.14*r*r*r)/3\r\n",
        "print(volume)"
      ],
      "execution_count": 26,
      "outputs": [
        {
          "output_type": "stream",
          "text": [
            "Luas Dan Volume Bola\n",
            "masukkan jari-jari : 3\n",
            "diameter sebesar 6\n",
            "luas permukaan bola\n",
            "113.03999999999999\n",
            "volume bola\n",
            "113.04\n"
          ],
          "name": "stdout"
        }
      ]
    }
  ]
}